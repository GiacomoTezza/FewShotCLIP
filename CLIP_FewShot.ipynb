{
 "cells": [
  {
   "cell_type": "markdown",
   "metadata": {
    "id": "b7ImPOvighMz"
   },
   "source": [
    "# Few-Shot Adaptation of CLIP with CoCoOp for Fine-Grained Flower Classification\n",
    "**Deep Learning Project Assignment 2025**<br>\n",
    "**Team**: Mayora Barcenas Valeria, Tomelleri Jacopo, Tezza Giacomo.\n",
    "\n",
    "## Abstract\n",
    "We introduce a novel extension of CoCoOp for few‑shot adaptation of CLIP ViT‑B/16 on the Oxford Flowers dataset by simultaneously conditioning soft prompts on three complementary signals: image‑dependent tokens, class prototypes, and textual embeddings of encyclopedic flower descriptions; fused via a learned gating mechanism. Experiments on the 10‑shot Flowers102 split show that our multi‑conditioned prompt learner boosts base‑class accuracy to ∼XX.X%, novel‑class accuracy to ∼XX.X%, and harmonic mean to ∼XX.X%, outperforming the standard CoCoOp baseline by approximately X percentage points across all metrics. These results demonstrate that enriching prompt contexts with diverse visual and semantic cues substantially improves fine‑grained few‑shot classification performance."
   ]
  },
  {
   "cell_type": "markdown",
   "metadata": {
    "id": "StQmJNoLghM0"
   },
   "source": [
    "## Introduction & Motivation\n",
    "\n",
    "<!-- ##### TODO\n",
    "- Briefly introduce CLIP, few-shot learning, and fine-grained visual recognition.\n",
    "- Introduce the Oxford Flowers dataset and its challenges (subtle inter-class differences, few labeled examples).\n",
    "- State the goal: improving CLIP's zero-shot performance via few-shot adaptation with CoCoOp.\n",
    "- Motivate CoCoOp as the starting method (mention previous results/generalization).\n",
    "- Define your plan: implement CoCoOp → baseline → extend → evaluate → propose future directions. -->\n",
    "\n",
    "Recent advances in vision-language models, most notably CLIP (Contrastive Language–Image Pretraining) \\[Radford et al., 2021], have demonstrated impressive zero-shot generalization across a variety of visual classification tasks. However, for fine-grained domains, where subtle differences separate visually similar classes, zero-shot performance often falls behind methods tailored with task-specific data. Few-shot learning offers a compromise by adapting a pretrained model to new classes using only a handful of labeled examples, thereby combining broad knowledge from large-scale pretraining with targeted, data-efficient adaptation.\n",
    "\n",
    "The Oxford Flowers102 dataset presents a canonical benchmark for fine-grained visual recognition. It comprises 102 flower species, many of which exhibit minimal inter-class variation (e.g. petal shape, color gradations), making discrimination challenging. Furthermore, realistic few-shot splits typically allocate as few as 5–10 labeled images per class, further stressing models that must generalize from limited examples.\n",
    "\n",
    "To address these challenges, we aim to improve CLIP’s zero-shot performance on Flowers102 via few-shot adaptation. We build upon CoCoOp (Conditional Context Optimization) \\[Zhou et al., 2022], a state-of-the-art prompt-learning method that learns soft prompts conditioned on input images to bridge the gap between image features and language-based classifiers. CoCoOp has demonstrated superior generalization to unseen classes compared to fixed or manually designed prompts, making it an ideal baseline for our exploration.\n",
    "\n",
    "Our project plan proceeds as follows:\n",
    "\n",
    "1. **Implement CoCoOp** on CLIP ViT-B/16 and establish baseline performance on the 10-shot Flowers102 split.\n",
    "2. **Extend the prompt learner** by incorporating additional conditioning signals, specifically, class prototypes computed from few-shot examples and textual embeddings derived from encyclopedic flower descriptions.\n",
    "3. **Fuse** these three modalities (image, prototype, text) via a learned gating mechanism to enrich the soft-prompt context.\n",
    "4. **Evaluate** the multi-conditioned prompt learner against standard CoCoOp, comparing base-class accuracy, novel-class accuracy, and their harmonic mean.\n",
    "5. **Analyze** results to identify strengths, limitations, and insights guiding potential future directions. \n",
    "<!-- , such as dynamic prompt lengths or semantic regularization. -->\n",
    "\n",
    "Through this systematic approach, we aim both to demonstrate meaningful gains in fine-grained few-shot classification and to deepen our understanding of how diverse semantic cues can synergize within prompt-learning frameworks.\n"
   ]
  },
  {
   "cell_type": "markdown",
   "metadata": {
    "id": "JgX1ILR7ghM0"
   },
   "source": [
    "## Setup and Baseline\n",
    "##### TODO\n",
    "- Environment setup: pip install (all dependencies including clip, torch, tqdm, matplotlib, etc.)\n",
    "- Set seeds for reproducibility\n",
    "- Load the Oxford Flowers dataset (reuse template.py's get_data)\n",
    "    - Show Base/Novel split and explain its purpose (simulate generalization)\n",
    "- Load CLIP (ViT-B/16) and inspect its architecture (input size, vocab, etc.)\n",
    "- Perform CLIP zero-shot evaluation:\n",
    "    - Generate prompts: “a photo of a {flower}, a type of flower”\n",
    "    - Evaluate and report base, novel, and harmonic mean accuracies.\n",
    "- Plot: per-class accuracy bar chart, confusion matrix\n",
    "- Save these metrics for later comparison"
   ]
  },
  {
   "cell_type": "markdown",
   "metadata": {
    "id": "VwTekigDghM0"
   },
   "source": [
    "### Dependencies and Environment Setup\n",
    "This section ensures the notebook is reproducible and fully operational across different environments.<br/>\n",
    "Here it will install all necessary packages, set the working device (CPU/GPU), and configure paths and reproducibility settings."
   ]
  },
  {
   "cell_type": "code",
   "execution_count": 1,
   "metadata": {
    "execution": {
     "iopub.execute_input": "2025-07-16T13:19:18.556631Z",
     "iopub.status.busy": "2025-07-16T13:19:18.556339Z",
     "iopub.status.idle": "2025-07-16T13:19:32.434856Z",
     "shell.execute_reply": "2025-07-16T13:19:32.434345Z",
     "shell.execute_reply.started": "2025-07-16T13:19:18.556601Z"
    },
    "id": "VopeGTnSghM1"
   },
   "outputs": [],
   "source": [
    "import sys\n",
    "import subprocess\n",
    "\n",
    "def install(package):\n",
    "    subprocess.check_call([sys.executable, \"-m\", \"pip\", \"install\", \"--quiet\", package])\n",
    "\n",
    "install(\"ftfy\")\n",
    "install(\"regex\")\n",
    "install(\"tqdm\")\n",
    "install(\"scikit-learn\")\n",
    "install(\"scikit-image\")\n",
    "install(\"pooch\")\n",
    "install(\"matplotlib\")\n",
    "install(\"pillow\")\n",
    "install(\"openai-clip\")\n",
    "install(\"torch>=2.0\")\n",
    "install(\"torchvision\")"
   ]
  },
  {
   "cell_type": "code",
   "execution_count": 2,
   "metadata": {
    "colab": {
     "base_uri": "https://localhost:8080/"
    },
    "execution": {
     "iopub.execute_input": "2025-07-16T13:19:32.436359Z",
     "iopub.status.busy": "2025-07-16T13:19:32.435999Z",
     "iopub.status.idle": "2025-07-16T13:19:43.852322Z",
     "shell.execute_reply": "2025-07-16T13:19:43.851709Z",
     "shell.execute_reply.started": "2025-07-16T13:19:32.436327Z"
    },
    "id": "QtqdSOr8qqOn",
    "outputId": "188080f0-3d02-4399-d990-65997a1eeb6e"
   },
   "outputs": [
    {
     "name": "stderr",
     "output_type": "stream",
     "text": [
      "2025-07-16 13:19:36.770590: I tensorflow/core/util/port.cc:153] oneDNN custom operations are on. You may see slightly different numerical results due to floating-point round-off errors from different computation orders. To turn them off, set the environment variable `TF_ENABLE_ONEDNN_OPTS=0`.\n",
      "2025-07-16 13:19:36.909356: E external/local_xla/xla/stream_executor/cuda/cuda_fft.cc:477] Unable to register cuFFT factory: Attempting to register factory for plugin cuFFT when one has already been registered\n",
      "WARNING: All log messages before absl::InitializeLog() is called are written to STDERR\n",
      "E0000 00:00:1752671976.929976    1447 cuda_dnn.cc:8310] Unable to register cuDNN factory: Attempting to register factory for plugin cuDNN when one has already been registered\n",
      "E0000 00:00:1752671976.935666    1447 cuda_blas.cc:1418] Unable to register cuBLAS factory: Attempting to register factory for plugin cuBLAS when one has already been registered\n",
      "2025-07-16 13:19:36.971816: I tensorflow/core/platform/cpu_feature_guard.cc:210] This TensorFlow binary is optimized to use available CPU instructions in performance-critical operations.\n",
      "To enable the following instructions: SSE4.1 SSE4.2 AVX AVX2 AVX512F AVX512_VNNI FMA, in other operations, rebuild TensorFlow with the appropriate compiler flags.\n"
     ]
    },
    {
     "name": "stdout",
     "output_type": "stream",
     "text": [
      "Using device: cuda\n"
     ]
    }
   ],
   "source": [
    "import os\n",
    "import random\n",
    "import numpy as np\n",
    "import matplotlib.pyplot as plt\n",
    "from PIL import Image\n",
    "from pathlib import Path\n",
    "from tqdm import tqdm\n",
    "\n",
    "import torch\n",
    "import torch.nn as nn\n",
    "from torch.utils.tensorboard import SummaryWriter\n",
    "import torchvision\n",
    "\n",
    "import clip  # OpenAI CLIP\n",
    "\n",
    "device = \"cuda\" if torch.cuda.is_available() else \"cpu\"\n",
    "print(\"Using device:\", device)"
   ]
  },
  {
   "cell_type": "code",
   "execution_count": 3,
   "metadata": {
    "execution": {
     "iopub.execute_input": "2025-07-16T13:19:43.854141Z",
     "iopub.status.busy": "2025-07-16T13:19:43.853667Z",
     "iopub.status.idle": "2025-07-16T13:19:43.864937Z",
     "shell.execute_reply": "2025-07-16T13:19:43.862889Z",
     "shell.execute_reply.started": "2025-07-16T13:19:43.854119Z"
    },
    "id": "arDGJv6xghM2"
   },
   "outputs": [],
   "source": [
    "def set_seed(seed=42):\n",
    "    random.seed(seed)\n",
    "    np.random.seed(seed)\n",
    "    torch.manual_seed(seed)\n",
    "    torch.cuda.manual_seed_all(seed)\n",
    "\n",
    "    # Ensure deterministic behavior\n",
    "    torch.backends.cudnn.deterministic = True\n",
    "    torch.backends.cudnn.benchmark = False\n",
    "\n",
    "set_seed(42)"
   ]
  },
  {
   "cell_type": "code",
   "execution_count": 4,
   "metadata": {
    "execution": {
     "iopub.execute_input": "2025-07-16T13:19:43.865890Z",
     "iopub.status.busy": "2025-07-16T13:19:43.865689Z",
     "iopub.status.idle": "2025-07-16T13:19:43.869122Z",
     "shell.execute_reply": "2025-07-16T13:19:43.868637Z",
     "shell.execute_reply.started": "2025-07-16T13:19:43.865872Z"
    },
    "id": "M9V0U92FghM2"
   },
   "outputs": [],
   "source": [
    "# For saving checkpoints, plots, etc.\n",
    "Path(\"outputs\").mkdir(exist_ok=True)\n",
    "Path(\"checkpoints\").mkdir(exist_ok=True)\n",
    "Path(\"logs\").mkdir(exist_ok=True)\n",
    "Path(\"data\").mkdir(exist_ok=True)"
   ]
  },
  {
   "cell_type": "markdown",
   "metadata": {
    "id": "2353MHw1p24h"
   },
   "source": [
    "### Dataset Loading and Split\n",
    "Downloading the data directly from torchvision."
   ]
  },
  {
   "cell_type": "code",
   "execution_count": 5,
   "metadata": {
    "execution": {
     "iopub.execute_input": "2025-07-16T13:19:43.872565Z",
     "iopub.status.busy": "2025-07-16T13:19:43.872361Z",
     "iopub.status.idle": "2025-07-16T13:19:43.876054Z",
     "shell.execute_reply": "2025-07-16T13:19:43.875515Z",
     "shell.execute_reply.started": "2025-07-16T13:19:43.872541Z"
    },
    "id": "M_1CrUhZpVCq"
   },
   "outputs": [],
   "source": [
    "def get_data(data_dir=\"./data\", transform=None):\n",
    "    \"\"\"Load Flowers102 train, validation and test sets.\n",
    "    Args:\n",
    "        data_dir (str): Directory where the dataset will be stored.\n",
    "        transform (torch.Compose)\n",
    "    Returns:\n",
    "        tuple: A tuple containing the train, validation, and test sets.\n",
    "    \"\"\"\n",
    "    train = torchvision.datasets.Flowers102(root=data_dir, split=\"train\", download=True, transform=transform)\n",
    "    val = torchvision.datasets.Flowers102(root=data_dir, split=\"val\", download=True, transform=transform)\n",
    "    test = torchvision.datasets.Flowers102(root=data_dir, split=\"test\", download=True, transform=transform)\n",
    "    return train, val, test"
   ]
  },
  {
   "cell_type": "markdown",
   "metadata": {
    "id": "KJI_a5EizA5a"
   },
   "source": [
    "#### Base and Novel categories\n",
    "The Oxford Flowers dataset contains 102 classes of flowers. For our experiments, we will split the dataset into base and novel categories.</br>\n",
    "The first 51 classes will be used as base categories, while the remaining 51 classes will be treated as novel categories.</br>\n",
    "This split allows us to simulate a real-world scenario where the model is trained on a set of known categories (base) and evaluated on unseen categories (novel)."
   ]
  },
  {
   "cell_type": "code",
   "execution_count": 6,
   "metadata": {
    "execution": {
     "iopub.execute_input": "2025-07-16T13:19:43.878769Z",
     "iopub.status.busy": "2025-07-16T13:19:43.878599Z",
     "iopub.status.idle": "2025-07-16T13:19:43.882128Z",
     "shell.execute_reply": "2025-07-16T13:19:43.881580Z",
     "shell.execute_reply.started": "2025-07-16T13:19:43.878753Z"
    },
    "id": "nfq51vd8q_5a"
   },
   "outputs": [],
   "source": [
    "def base_novel_categories(dataset):\n",
    "    # set returns the unique set of all dataset classes\n",
    "    all_classes = set(dataset._labels)\n",
    "    # and let's count them\n",
    "    num_classes = len(all_classes)\n",
    "\n",
    "    # here list(range(num_classes)) returns a list from 0 to num_classes - 1\n",
    "    # then we slice the list in half and generate base and novel category lists\n",
    "    base_classes = list(range(num_classes))[:num_classes//2]\n",
    "    novel_classes = list(range(num_classes))[num_classes//2:]\n",
    "    return base_classes, novel_classes"
   ]
  },
  {
   "cell_type": "markdown",
   "metadata": {
    "id": "kvDdoYQr2fIu"
   },
   "source": [
    "#### Inspect Classes\n",
    "A quick overview of the classes in the dataset, including their names and indices, helps understand and visualize the dataset structure and the split between base and novel categories."
   ]
  },
  {
   "cell_type": "code",
   "execution_count": 7,
   "metadata": {
    "colab": {
     "base_uri": "https://localhost:8080/"
    },
    "execution": {
     "iopub.execute_input": "2025-07-16T13:19:43.885453Z",
     "iopub.status.busy": "2025-07-16T13:19:43.885184Z",
     "iopub.status.idle": "2025-07-16T13:19:43.960082Z",
     "shell.execute_reply": "2025-07-16T13:19:43.959575Z",
     "shell.execute_reply.started": "2025-07-16T13:19:43.885427Z"
    },
    "id": "veGGpNDctCgR",
    "outputId": "3a95f8a3-5878-41e1-d8d8-ba21390562ef"
   },
   "outputs": [
    {
     "name": "stdout",
     "output_type": "stream",
     "text": [
      "Base Classes:\n",
      "  0: pink primrose\n",
      "  1: hard-leaved pocket orchid\n",
      "  2: canterbury bells\n",
      "  3: sweet pea\n",
      "  4: english marigold\n",
      "  5: tiger lily\n",
      "  6: moon orchid\n",
      "  7: bird of paradise\n",
      "  8: monkshood\n",
      "  9: globe thistle\n",
      " 10: snapdragon\n",
      " 11: colt's foot\n",
      " 12: king protea\n",
      " 13: spear thistle\n",
      " 14: yellow iris\n",
      " 15: globe-flower\n",
      " 16: purple coneflower\n",
      " 17: peruvian lily\n",
      " 18: balloon flower\n",
      " 19: giant white arum lily\n",
      " 20: fire lily\n",
      " 21: pincushion flower\n",
      " 22: fritillary\n",
      " 23: red ginger\n",
      " 24: grape hyacinth\n",
      " 25: corn poppy\n",
      " 26: prince of wales feathers\n",
      " 27: stemless gentian\n",
      " 28: artichoke\n",
      " 29: sweet william\n",
      " 30: carnation\n",
      " 31: garden phlox\n",
      " 32: love in the mist\n",
      " 33: mexican aster\n",
      " 34: alpine sea holly\n",
      " 35: ruby-lipped cattleya\n",
      " 36: cape flower\n",
      " 37: great masterwort\n",
      " 38: siam tulip\n",
      " 39: lenten rose\n",
      " 40: barbeton daisy\n",
      " 41: daffodil\n",
      " 42: sword lily\n",
      " 43: poinsettia\n",
      " 44: bolero deep blue\n",
      " 45: wallflower\n",
      " 46: marigold\n",
      " 47: buttercup\n",
      " 48: oxeye daisy\n",
      " 49: common dandelion\n",
      " 50: petunia\n",
      "\n",
      "Novel Classes:\n",
      " 51: wild pansy\n",
      " 52: primula\n",
      " 53: sunflower\n",
      " 54: pelargonium\n",
      " 55: bishop of llandaff\n",
      " 56: gaura\n",
      " 57: geranium\n",
      " 58: orange dahlia\n",
      " 59: pink-yellow dahlia?\n",
      " 60: cautleya spicata\n",
      " 61: japanese anemone\n",
      " 62: black-eyed susan\n",
      " 63: silverbush\n",
      " 64: californian poppy\n",
      " 65: osteospermum\n",
      " 66: spring crocus\n",
      " 67: bearded iris\n",
      " 68: windflower\n",
      " 69: tree poppy\n",
      " 70: gazania\n",
      " 71: azalea\n",
      " 72: water lily\n",
      " 73: rose\n",
      " 74: thorn apple\n",
      " 75: morning glory\n",
      " 76: passion flower\n",
      " 77: lotus\n",
      " 78: toad lily\n",
      " 79: anthurium\n",
      " 80: frangipani\n",
      " 81: clematis\n",
      " 82: hibiscus\n",
      " 83: columbine\n",
      " 84: desert-rose\n",
      " 85: tree mallow\n",
      " 86: magnolia\n",
      " 87: cyclamen\n",
      " 88: watercress\n",
      " 89: canna lily\n",
      " 90: hippeastrum\n",
      " 91: bee balm\n",
      " 92: ball moss\n",
      " 93: foxglove\n",
      " 94: bougainvillea\n",
      " 95: camellia\n",
      " 96: mallow\n",
      " 97: mexican petunia\n",
      " 98: bromelia\n",
      " 99: blanket flower\n",
      "100: trumpet creeper\n",
      "101: blackberry lily\n",
      "\n"
     ]
    }
   ],
   "source": [
    "_, _, tmp_test = get_data()\n",
    "base_classes, novel_classes = base_novel_categories(tmp_test)\n",
    "CLASS_NAMES = [\"pink primrose\", \"hard-leaved pocket orchid\", \"canterbury bells\", \"sweet pea\", \"english marigold\", \"tiger lily\", \"moon orchid\", \"bird of paradise\", \"monkshood\", \"globe thistle\", \"snapdragon\", \"colt's foot\", \"king protea\", \"spear thistle\", \"yellow iris\", \"globe-flower\", \"purple coneflower\", \"peruvian lily\", \"balloon flower\", \"giant white arum lily\", \"fire lily\", \"pincushion flower\", \"fritillary\", \"red ginger\", \"grape hyacinth\", \"corn poppy\", \"prince of wales feathers\", \"stemless gentian\", \"artichoke\", \"sweet william\", \"carnation\", \"garden phlox\", \"love in the mist\", \"mexican aster\", \"alpine sea holly\", \"ruby-lipped cattleya\", \"cape flower\", \"great masterwort\", \"siam tulip\", \"lenten rose\", \"barbeton daisy\", \"daffodil\", \"sword lily\", \"poinsettia\", \"bolero deep blue\", \"wallflower\", \"marigold\", \"buttercup\", \"oxeye daisy\", \"common dandelion\", \"petunia\", \"wild pansy\", \"primula\", \"sunflower\", \"pelargonium\", \"bishop of llandaff\", \"gaura\", \"geranium\", \"orange dahlia\", \"pink-yellow dahlia?\", \"cautleya spicata\", \"japanese anemone\", \"black-eyed susan\", \"silverbush\", \"californian poppy\", \"osteospermum\", \"spring crocus\", \"bearded iris\", \"windflower\", \"tree poppy\", \"gazania\", \"azalea\", \"water lily\", \"rose\", \"thorn apple\", \"morning glory\", \"passion flower\", \"lotus\", \"toad lily\", \"anthurium\", \"frangipani\", \"clematis\", \"hibiscus\", \"columbine\", \"desert-rose\", \"tree mallow\", \"magnolia\", \"cyclamen\", \"watercress\", \"canna lily\", \"hippeastrum\", \"bee balm\", \"ball moss\", \"foxglove\", \"bougainvillea\", \"camellia\", \"mallow\", \"mexican petunia\", \"bromelia\", \"blanket flower\", \"trumpet creeper\", \"blackberry lily\"]\n",
    "\n",
    "# Pretty formatted print of base and novel classes\n",
    "def print_classes(label, classes, class_names):\n",
    "    print(f\"{label} Classes:\")\n",
    "    for i in classes:\n",
    "        print(f\"{i:3d}: {class_names[i]}\")\n",
    "    print()\n",
    "\n",
    "print_classes(\"Base\", base_classes, CLASS_NAMES)\n",
    "print_classes(\"Novel\", novel_classes, CLASS_NAMES)"
   ]
  },
  {
   "cell_type": "markdown",
   "metadata": {
    "id": "8puO1VNpzwvi"
   },
   "source": [
    "#### Split Dataset\n",
    "The dataset is split into base and novel categories using the `base_novel_categories` function. This function takes the dataset and splits it into two subsets: one for base categories and another for novel categories. The split is based on the class indices, ensuring that the first 51 classes are used as base categories and the remaining 51 classes are treated as novel categories."
   ]
  },
  {
   "cell_type": "code",
   "execution_count": 8,
   "metadata": {
    "execution": {
     "iopub.execute_input": "2025-07-16T13:19:43.963212Z",
     "iopub.status.busy": "2025-07-16T13:19:43.962918Z",
     "iopub.status.idle": "2025-07-16T13:19:43.967103Z",
     "shell.execute_reply": "2025-07-16T13:19:43.966574Z",
     "shell.execute_reply.started": "2025-07-16T13:19:43.963185Z"
    },
    "id": "msOszMs2zRRu"
   },
   "outputs": [],
   "source": [
    "def split_data(dataset, base_classes):\n",
    "    # these two lists will store the sample indexes\n",
    "    base_categories_samples = []\n",
    "    novel_categories_samples = []\n",
    "\n",
    "    # we create a set of base classes to compute the test below in O(1)\n",
    "    # this is optional and can be removed\n",
    "    base_set = set(base_classes)\n",
    "\n",
    "    # here we iterate over sample labels and also get the correspondent sample index\n",
    "    for sample_id, label in enumerate(dataset._labels):\n",
    "        if label in base_set:\n",
    "            base_categories_samples.append(sample_id)\n",
    "        else:\n",
    "            novel_categories_samples.append(sample_id)\n",
    "\n",
    "    # here we create the dataset subsets\n",
    "    # the torch Subset is just a wrapper around the dataset\n",
    "    # it simply stores the subset indexes and the original dataset (your_subset.dataset)\n",
    "    # when asking for sample i in the subset, torch will look for its original position in the dataset and retrieve it\n",
    "    # https://pytorch.org/docs/stable/data.html#torch.utils.data.Subset\n",
    "    base_dataset = torch.utils.data.Subset(dataset, base_categories_samples)\n",
    "    novel_dataset = torch.utils.data.Subset(dataset, novel_categories_samples)\n",
    "    return base_dataset, novel_dataset"
   ]
  },
  {
   "cell_type": "markdown",
   "metadata": {
    "id": "VQZT22rE8hBw"
   },
   "source": [
    "#### Extract k shots\n",
    "The dataset already provides 10 train and validation shots, so we do not need to extract them. In many few-shot adaptation papers, this operation is necessary as most datasets contain significantly more samples in both the training and validation sets. However, in our case, we can directly utilize the provided shots without further extraction."
   ]
  },
  {
   "cell_type": "markdown",
   "metadata": {
    "id": "-KpbPRLr7WL_"
   },
   "source": [
    "### CLIP (ViT-B/16) Loading and Inspection"
   ]
  },
  {
   "cell_type": "code",
   "execution_count": 9,
   "metadata": {
    "colab": {
     "base_uri": "https://localhost:8080/"
    },
    "execution": {
     "iopub.execute_input": "2025-07-16T13:19:43.972385Z",
     "iopub.status.busy": "2025-07-16T13:19:43.972211Z",
     "iopub.status.idle": "2025-07-16T13:19:49.700103Z",
     "shell.execute_reply": "2025-07-16T13:19:49.699496Z",
     "shell.execute_reply.started": "2025-07-16T13:19:43.972369Z"
    },
    "id": "Sh6uLZRT7YJx",
    "outputId": "e695fe2f-32b0-419e-b8c4-de5a8eadcacf"
   },
   "outputs": [
    {
     "data": {
      "text/plain": [
       "Compose(\n",
       "    Resize(size=224, interpolation=bicubic, max_size=None, antialias=True)\n",
       "    CenterCrop(size=(224, 224))\n",
       "    <function _convert_image_to_rgb at 0x7f8ebe91e020>\n",
       "    ToTensor()\n",
       "    Normalize(mean=(0.48145466, 0.4578275, 0.40821073), std=(0.26862954, 0.26130258, 0.27577711))\n",
       ")"
      ]
     },
     "execution_count": 9,
     "metadata": {},
     "output_type": "execute_result"
    }
   ],
   "source": [
    "# available models = ['RN50', 'RN101', 'RN50x4', 'RN50x16', 'RN50x64', 'ViT-B/32', 'ViT-B/16', 'ViT-L/14', 'ViT-L/14@336px']\n",
    "model, preprocess = clip.load(\"ViT-B/16\", device=device)\n",
    "\n",
    "# preprocess contains CLIP's pre-defined augmentations, let's inspect them!\n",
    "preprocess"
   ]
  },
  {
   "cell_type": "markdown",
   "metadata": {
    "id": "lM9H14899ses"
   },
   "source": [
    "#### Load and Prepare Data\n",
    "Before we can compute the CLIP zero-shot performance, that will be our baseline, we need to load the dataset and prepare it for evaluation. This involves applying CLIP's predefined augmentations and splitting the dataset into base and novel categories, as described in the previous sections.</br>\n",
    "For the zero-shot evaluation, we need the novel categories only for the test set, so we will drop `train_novel` and `val_novel` datasets."
   ]
  },
  {
   "cell_type": "code",
   "execution_count": 10,
   "metadata": {
    "execution": {
     "iopub.execute_input": "2025-07-16T13:19:49.702970Z",
     "iopub.status.busy": "2025-07-16T13:19:49.702779Z",
     "iopub.status.idle": "2025-07-16T13:19:49.729195Z",
     "shell.execute_reply": "2025-07-16T13:19:49.728714Z",
     "shell.execute_reply.started": "2025-07-16T13:19:49.702952Z"
    },
    "id": "TVrYUYTv9ttM"
   },
   "outputs": [],
   "source": [
    "# get the three datasets\n",
    "train_set, val_set, test_set = get_data(transform=preprocess)\n",
    "\n",
    "# split classes into base and novel\n",
    "base_classes, novel_classes = base_novel_categories(train_set)\n",
    "\n",
    "# split the three datasets\n",
    "train_base, _ = split_data(train_set, base_classes)\n",
    "val_base, _ = split_data(val_set, base_classes)\n",
    "test_base, test_novel = split_data(test_set, base_classes)"
   ]
  },
  {
   "cell_type": "markdown",
   "metadata": {
    "id": "YcgMwr3J9VIg"
   },
   "source": [
    "### Compute Zero-Shot Predictions"
   ]
  },
  {
   "cell_type": "code",
   "execution_count": 11,
   "metadata": {
    "colab": {
     "base_uri": "https://localhost:8080/",
     "height": 526
    },
    "execution": {
     "iopub.execute_input": "2025-07-16T13:19:49.732288Z",
     "iopub.status.busy": "2025-07-16T13:19:49.732069Z",
     "iopub.status.idle": "2025-07-16T13:19:49.737660Z",
     "shell.execute_reply": "2025-07-16T13:19:49.737139Z",
     "shell.execute_reply.started": "2025-07-16T13:19:49.732264Z"
    },
    "id": "7uhblkvm9US4",
    "outputId": "dd9a232f-37a7-4229-e133-6a27661cda3d"
   },
   "outputs": [],
   "source": [
    "@torch.no_grad() # we don't want gradients\n",
    "def eval(model, dataset, categories, batch_size, device, label=\"\"):\n",
    "    # let's set the model in evaluation mode\n",
    "    model.eval()\n",
    "\n",
    "    # Remap labels into a contiguous set starting from zero\n",
    "    contig_cat2idx = {cat: idx for idx, cat in enumerate(categories)}\n",
    "\n",
    "    # here we apply the standard CLIP template used for oxford flowers to all categories\n",
    "    # and immediately tokenize each sentence (convert natural language into numbers - feel free to print the text input to inspect them)\n",
    "    text_inputs = clip.tokenize(\n",
    "        [f\"a photo of a {CLASS_NAMES[c]}, a type of flower.\" for c in categories]\n",
    "    ).to(device)\n",
    "\n",
    "    # we can encode the text features once as they are shared for all images\n",
    "    # therefore we do it outside the evaluation loop\n",
    "    text_features = model.encode_text(text_inputs)\n",
    "    # and here we normalize them (standard pratice with CLIP)\n",
    "    text_features /= text_features.norm(dim=-1, keepdim=True)\n",
    "\n",
    "    # simple dataloader creation\n",
    "    dataloader = torch.utils.data.DataLoader(dataset, batch_size=batch_size, shuffle=False, num_workers=2)\n",
    "\n",
    "    # here we store the number of correct predictions we will make\n",
    "    correct_predictions = 0\n",
    "    for image, target in tqdm(dataloader, desc=label):\n",
    "        # base categories range from 0 to 50, while novel ones from 51 to 101\n",
    "        # therefore we must map categories to the [0, 50], otherwise we will have wrong predictions\n",
    "        # Map targets in contiguous set starting from zero\n",
    "        # Labels needs to be .long() in pytorch\n",
    "        target = torch.Tensor([contig_cat2idx[t.item()] for t in target]).long()\n",
    "\n",
    "        image = image.to(device)\n",
    "        target = target.to(device)\n",
    "\n",
    "        # forward image through CLIP image encoder\n",
    "        image_features = model.encode_image(image)\n",
    "        # and normalize\n",
    "        image_features /= image_features.norm(dim=-1, keepdim=True)\n",
    "\n",
    "        # here cosine similarity between image and text features and keep the argmax for every row (every image)\n",
    "        predicted_class = (image_features @ text_features.T).argmax(dim=-1)\n",
    "        # now we check which are correct, and sum them (False == 0, True == 1)\n",
    "        correct_predictions += (predicted_class == target).sum().item()\n",
    "\n",
    "    # and now we compute the accuracy\n",
    "    accuracy = correct_predictions / len(dataset)\n",
    "    return accuracy"
   ]
  },
  {
   "cell_type": "code",
   "execution_count": 12,
   "metadata": {
    "execution": {
     "iopub.execute_input": "2025-07-16T13:19:49.738782Z",
     "iopub.status.busy": "2025-07-16T13:19:49.738247Z",
     "iopub.status.idle": "2025-07-16T13:20:19.973637Z",
     "shell.execute_reply": "2025-07-16T13:20:19.972962Z",
     "shell.execute_reply.started": "2025-07-16T13:19:49.738753Z"
    }
   },
   "outputs": [
    {
     "name": "stderr",
     "output_type": "stream",
     "text": [
      "🧠 Zero-shot evaluation on Base Classes: 100%|██████████| 20/20 [00:12<00:00,  1.66it/s]\n",
      "🧠 Zero-shot evaluation on Novel Classes: 100%|██████████| 29/29 [00:17<00:00,  1.64it/s]"
     ]
    },
    {
     "name": "stdout",
     "output_type": "stream",
     "text": [
      "\n",
      "🔍 Base classes accuracy: 71.33%\n",
      "🔍 Novel classes accuracy: 78.24%\n"
     ]
    },
    {
     "name": "stderr",
     "output_type": "stream",
     "text": [
      "\n"
     ]
    }
   ],
   "source": [
    "base_accuracy = eval(model=model, dataset=test_base, categories=base_classes, batch_size=128, device=device, label=\"🧠 Zero-shot evaluation on Base Classes\")\n",
    "novel_accuracy = eval(model=model, dataset=test_novel, categories=novel_classes, batch_size=128, device=device, label=\"🧠 Zero-shot evaluation on Novel Classes\")\n",
    "\n",
    "print()\n",
    "print(f\"🔍 Base classes accuracy: {base_accuracy*100:.2f}%\")\n",
    "print(f\"🔍 Novel classes accuracy: {novel_accuracy*100:.2f}%\")"
   ]
  },
  {
   "cell_type": "markdown",
   "metadata": {
    "id": "baYfLKNdfbUR"
   },
   "source": [
    "#### Harmonic Mean\n",
    "Few-Shot Adaptations papers usually report the Harmonic Mean.\n",
    "The harmonic mean tends to mitigate the impact of large outliers (base accuracy) and aggravate the impact of small ones (novel accuracy).\n",
    "Thus, achieving very high base accuracies at the expense of the novel accuracy will be penalized by the HM."
   ]
  },
  {
   "cell_type": "code",
   "execution_count": 13,
   "metadata": {
    "execution": {
     "iopub.execute_input": "2025-07-16T13:20:19.976878Z",
     "iopub.status.busy": "2025-07-16T13:20:19.976547Z",
     "iopub.status.idle": "2025-07-16T13:20:19.980559Z",
     "shell.execute_reply": "2025-07-16T13:20:19.980098Z",
     "shell.execute_reply.started": "2025-07-16T13:20:19.976842Z"
    },
    "id": "rKAXR7hlfbUR"
   },
   "outputs": [],
   "source": [
    "def harmonic_mean(base_accuracy, novel_accuracy):\n",
    "    numerator = 2\n",
    "    denominator = 1 / base_accuracy + 1 / novel_accuracy\n",
    "    hm = numerator / denominator\n",
    "    return hm\n",
    "\n",
    "# print(f\"🔍 Harmonic Mean: {harmonic_mean(base_accuracy, novel_accuracy)*100:.2f}%\")"
   ]
  },
  {
   "cell_type": "markdown",
   "metadata": {
    "id": "nTfBAJovghM6"
   },
   "source": [
    "### Baseline evaluation and Plots"
   ]
  },
  {
   "cell_type": "markdown",
   "metadata": {
    "id": "trHBv5NEghM6"
   },
   "source": [
    "## Methodology: CoCoOp\n",
    "<!-- ##### TODO\n",
    "- Provide a short literature summary of CoCoOp with diagram (can be ASCII or markdown)\n",
    "    - What it is (image-conditioned prompt learning)\n",
    "    - Why it helps (avoids overfitting class tokens, learns better generalization)\n",
    "- Describe the architecture:\n",
    "    - MetaNet / PromptLearner: learn image-conditioned soft prompts\n",
    "    - Prompt format: [CLS] + ctx_tokens + class name + EOS\n",
    "    - Only prompt tokens and MetaNet are updated, CLIP remains frozen\n",
    "- Present equations:\n",
    "    - Prompt generation\n",
    "    - Similarity computation\n",
    "    - Cross-entropy loss over cosine similarity\n",
    "- Show a schematic of the training pipeline (optional visual diagram) -->\n",
    "\n",
    "### Overview\n",
    "\n",
    "Conditional Context Optimization (CoCoOp) is an extension of prompt-based adaptation for vision–language models, first introduced by Zhou et al. (2022). Unlike static prompt tuning (e.g. CoOp), which learns a fixed set of soft prompt vectors per class, CoCoOp employs an image-conditioned prompt learner that dynamically generates context embeddings tailored to each input image. This conditional mechanism helps avoid overfitting to class-specific tokens seen during training and yields stronger generalization to novel classes and unseen domains. Empirically, CoCoOp has been shown to improve zero-shot and few-shot transfer performance across a variety of datasets, particularly when there is significant domain shift or fine-grained class structure.\n",
    "\n",
    "### Architecture\n",
    "\n",
    "#### Overview\n",
    "\n",
    "* **Base model:** CLIP ViT-B/16, with its visual encoder $f_v$ and textual encoder $f_t$ frozen.\n",
    "* **PromptLearner (MetaNet):** A small network $g_\\phi$ that takes as input the global image feature and outputs a set of learnable context vectors (“soft prompts”).\n",
    "* **Prompt format:** Each text input to CLIP’s language encoder is constructed as\n",
    "\n",
    "  $$\n",
    "    \\mathbf{p}(x, c) \\;=\\; [\\texttt{[CLS]}] \\;\\oplus\\; \\underbrace{\\mathbf{z}_1 \\oplus \\mathbf{z}_2 \\oplus \\dots \\oplus \\mathbf{z}_M}_{\\text{ctx\\_tokens}} \\;\\oplus\\; \\texttt{“}c\\texttt{”} \\;\\oplus\\; [\\texttt{EOS}]\n",
    "  $$\n",
    "\n",
    "  where $M$ is the number of learned context tokens, $\\mathbf{z}_i\\in\\mathbb{R}^d$ are the soft-prompt embeddings produced by $g_\\phi$, and $c$ is the class name.\n",
    "\n",
    "#### Prompt Learner (MetaNet)\n",
    "\n",
    "* **Input:** Image $x$.\n",
    "\n",
    "* **Visual features:** Extract global feature $\\mathbf{v} = f_v(x)\\in\\mathbb{R}^d$.\n",
    "\n",
    "* **MetaNet:** A two-layer MLP\n",
    "\n",
    "  $$\n",
    "    g_\\phi(\\mathbf{v}) = \\mathrm{MLP}_\\phi(\\mathbf{v}) \\;\\in\\;\\mathbb{R}^{M\\times d}\n",
    "  $$\n",
    "\n",
    "  which outputs the stacked soft prompts $\\{\\mathbf{z}_i\\}_{i=1}^M$.\n",
    "\n",
    "* **Learnable parameters:** $\\phi$ (MetaNet weights) and the soft-prompt embeddings $\\{\\mathbf{z}_i\\}$. The CLIP encoders $f_v$ and $f_t$ remain frozen throughout training.\n",
    "\n",
    "* **Output:** Context tokens $\\mathbf{Z}(x) = [\\mathbf{z}_1(x), \\dots, \\mathbf{z}_M(x)]$.\n",
    "\n",
    "### Mathematical Formulation\n",
    "\n",
    "#### Prompt Generation\n",
    "\n",
    "Given an image $x$ and class name $c$, the prompt learner generates context tokens:\n",
    "\n",
    "$$\n",
    "\\mathbf{Z}(x) = g_\\phi\\bigl(f_v(x)\\bigr) = \\bigl[\\mathbf{z}_1(x), \\dots, \\mathbf{z}_M(x)\\bigr]\n",
    "$$\n",
    "\n",
    "The full token sequence $\\mathbf{P}(x, c)$ is then:\n",
    "\n",
    "$$\n",
    "\\mathbf{P}(x, c) = \\bigl[\\text{[CLS]},\\, \\mathbf{Z}(x),\\, \\text{tokens}(c),\\, \\text{[EOS]}\\bigr]\n",
    "$$\n",
    "\n",
    "#### Similarity Computation\n",
    "\n",
    "1. **Text encoding:**\n",
    "\n",
    "   $$\n",
    "     \\mathbf{t}(x, c) = f_t\\bigl(\\mathbf{P}(x, c)\\bigr)\\in\\mathbb{R}^d\n",
    "   $$\n",
    "2. **Image encoding:**\n",
    "\n",
    "   $$\n",
    "     \\mathbf{v} = f_v(x)\\in\\mathbb{R}^d\n",
    "   $$\n",
    "3. **Cosine similarity:**\n",
    "\n",
    "   $$\n",
    "     s(x,c) \\;=\\; \\cos\\bigl(\\mathbf{v},\\, \\mathbf{t}(x,c)\\bigr)\n",
    "     \\;=\\;\\frac{\\mathbf{v}^\\top \\mathbf{t}(x,c)}{\\|\\mathbf{v}\\|\\,\\|\\mathbf{t}(x,c)\\|}\n",
    "   $$\n",
    "\n",
    "#### Loss Function\n",
    "\n",
    "For a batch of $N$ images $\\{x_i\\}$ with labels $\\{y_i\\}$, we compute logits over the $K$ candidate classes via scaled cosine similarities:\n",
    "\n",
    "$$\n",
    "\\ell_{i,k} \\;=\\; \\tau \\,s\\bigl(x_i,\\,c_k\\bigr)\n",
    "$$\n",
    "\n",
    "where $\\tau$ is a learnable temperature parameter. The cross-entropy loss is\n",
    "\n",
    "$$\n",
    "\\mathcal{L} \\;=\\; -\\frac{1}{N}\\sum_{i=1}^N \\log\\frac{\\exp\\bigl(\\ell_{i,y_i}\\bigr)}{\\sum_{k=1}^K \\exp\\bigl(\\ell_{i,k}\\bigr)}\n",
    "$$\n",
    "\n",
    "Only $\\phi$, the soft-prompt embeddings, and $\\tau$ are updated during training; the CLIP encoders remain fixed.\n",
    "\n",
    "* **Output:** Context tokens $\\mathbf{Z}(x) = [\\mathbf{z}_1(x), \\dots, \\mathbf{z}_M(x)]$\n",
    "\n",
    "### Training Pipeline Schematic\n",
    "\n",
    "```\n",
    "     ┌─────────────────┐\n",
    "     │   Input Image   │\n",
    "     └───┬─────────────┘\n",
    "         │\n",
    "         ▼\n",
    "  ┌───────────────┐\n",
    "  │ Visual Encoder│\n",
    "  │  f_v (frozen) │\n",
    "  └───┬───────────┘\n",
    "      │\n",
    "      │ global feature v\n",
    "      ▼\n",
    "  ┌───────────────┐\n",
    "  │   MetaNet     │\n",
    "  │ g_φ (learned) │\n",
    "  └───┬───────────┘\n",
    "      │ soft prompts Z(x)\n",
    "      ▼\n",
    "Text Prompt Construction:\n",
    "[CLS] ⊕ Z(x) ⊕ “class name” ⊕ [EOS]\n",
    "      │\n",
    "      ▼\n",
    "  ┌───────────────┐\n",
    "  │ Text Encoder  │\n",
    "  │   f_t (frozen)│\n",
    "  └───┬───────────┘\n",
    "      │ text feature t(x,c)\n",
    "      ▼\n",
    "Similarity & Loss:\n",
    "s(x,c) = cos(v, t)\n",
    "Cross-entropy over classes\n",
    "```\n"
   ]
  },
  {
   "cell_type": "markdown",
   "metadata": {
    "id": "mwV3pf7YghM6"
   },
   "source": [
    "## Implementation: CoCoOp Baseline\n",
    "<!-- In this section, we implement the CoCoOp (Conditional Context Optimization) method for adapting CLIP to our downstream task. CoCoOp extends the original CoOp approach by generating prompts that are conditioned on the input image. The only trainable components are:\n",
    "\n",
    "- A PromptLearner module that generates learnable context tokens\n",
    "- A small MetaNet (image-conditional MLP) that produces dynamic prompt embeddings\n",
    "\n",
    "We freeze CLIP's visual and text encoders and only train the prompt learner to minimize cross-entropy over the Base training set. -->\n",
    "\n",
    "<!-- ##### TODO\n",
    "- Create PromptLearner module (copy from lab.py and adapt for Oxford Flowers)\n",
    "- Load CLIP\n",
    "- Freeze CLIP weights\n",
    "- Setup train/val/test splits from base classes only\n",
    "- Train PromptLearner on base classes\n",
    "- Use tokenizer and pre-tokenized text prompts for classnames\n",
    "- Implement optimizer, scheduler, and loss function\n",
    "- Report model summary (trainable params)\n",
    "- Show training logs: loss and accuracy curves -->"
   ]
  },
  {
   "cell_type": "code",
   "execution_count": 14,
   "metadata": {
    "execution": {
     "iopub.execute_input": "2025-07-16T13:20:19.987492Z",
     "iopub.status.busy": "2025-07-16T13:20:19.987110Z",
     "iopub.status.idle": "2025-07-16T13:20:20.081394Z",
     "shell.execute_reply": "2025-07-16T13:20:20.080898Z",
     "shell.execute_reply.started": "2025-07-16T13:20:19.987464Z"
    },
    "id": "ThDIpaP7ghM6"
   },
   "outputs": [],
   "source": [
    "import torch\n",
    "import torch.nn as nn\n",
    "import torch.nn.functional as F\n",
    "from collections import OrderedDict\n",
    "from clip.simple_tokenizer import SimpleTokenizer as _Tokenizer\n",
    "from torch.utils.data import DataLoader\n",
    "\n",
    "\n",
    "_tokenizer = _Tokenizer()"
   ]
  },
  {
   "cell_type": "code",
   "execution_count": 15,
   "metadata": {
    "execution": {
     "iopub.execute_input": "2025-07-16T13:20:20.082271Z",
     "iopub.status.busy": "2025-07-16T13:20:20.082067Z",
     "iopub.status.idle": "2025-07-16T13:20:20.087554Z",
     "shell.execute_reply": "2025-07-16T13:20:20.087043Z",
     "shell.execute_reply.started": "2025-07-16T13:20:20.082253Z"
    },
    "id": "pCo-rRO2ghM6"
   },
   "outputs": [],
   "source": [
    "class TextEncoder(nn.Module):\n",
    "    def __init__(self, clip_model):\n",
    "        super().__init__()\n",
    "        self.transformer = clip_model.transformer\n",
    "        self.positional_embedding = clip_model.positional_embedding\n",
    "        self.ln_final = clip_model.ln_final\n",
    "        self.text_projection = clip_model.text_projection\n",
    "        self.dtype = clip_model.dtype\n",
    "\n",
    "    def forward(self, prompts, tokenized_prompts):\n",
    "        x = prompts.to(self.dtype) + self.positional_embedding.to(self.dtype)\n",
    "        x = x.permute(1, 0, 2)  # NLD -> LND\n",
    "        x = self.transformer(x)\n",
    "        x = x.permute(1, 0, 2)  # LND -> NLD\n",
    "        x = self.ln_final(x).type(self.dtype)\n",
    "\n",
    "        x = x[torch.arange(x.shape[0]), tokenized_prompts.argmax(dim=-1)]\n",
    "        return x @ self.text_projection"
   ]
  },
  {
   "cell_type": "code",
   "execution_count": 16,
   "metadata": {
    "execution": {
     "iopub.execute_input": "2025-07-16T13:20:20.088549Z",
     "iopub.status.busy": "2025-07-16T13:20:20.088173Z",
     "iopub.status.idle": "2025-07-16T13:20:20.097301Z",
     "shell.execute_reply": "2025-07-16T13:20:20.096778Z",
     "shell.execute_reply.started": "2025-07-16T13:20:20.088531Z"
    },
    "id": "7f2JfmGbghM7"
   },
   "outputs": [],
   "source": [
    "class PromptLearner(nn.Module):\n",
    "    def __init__(self, class_ids, class_names, clip_model, n_ctx=4, ctx_init=None, device=\"cuda\"):\n",
    "        super().__init__()\n",
    "        self.dtype = clip_model.dtype\n",
    "        ctx_dim = clip_model.ln_final.weight.shape[0]\n",
    "        vis_dim = clip_model.visual.output_dim\n",
    "        self.device = device\n",
    "        self.n_cls = len(class_ids)\n",
    "        self.n_ctx = n_ctx\n",
    "\n",
    "        self.class_ids = class_ids\n",
    "        self.classnames = [class_names[c].replace(\"_\", \" \") for c in class_ids]\n",
    "\n",
    "        if ctx_init:\n",
    "            ctx_init = ctx_init.replace(\"_\", \" \")\n",
    "            n_ctx = len(ctx_init.split(\" \"))\n",
    "            # prompt = clip.tokenize(ctx_init).to(clip_model.token_embedding.weight.device)\n",
    "            prompt = clip.tokenize(ctx_init).to(device)\n",
    "            with torch.no_grad():\n",
    "                embedding = clip_model.token_embedding(prompt).to(self.dtype)\n",
    "            ctx_vectors = embedding[0, 1:1+n_ctx, :]\n",
    "            prompt_prefix = ctx_init\n",
    "        else:\n",
    "            ctx_vectors = torch.empty(n_ctx, ctx_dim, dtype=torch.float32)\n",
    "            nn.init.normal_(ctx_vectors, std=0.02)\n",
    "            prompt_prefix = \" \".join([\"X\"] * n_ctx)\n",
    "\n",
    "        print(f'Initial context: \"{prompt_prefix}\"')\n",
    "        print(f\"# of context tokens: {n_ctx}\")\n",
    "\n",
    "        self.ctx = nn.Parameter(ctx_vectors)\n",
    "\n",
    "        self.meta_net = nn.Sequential(OrderedDict([\n",
    "            (\"linear1\", nn.Linear(vis_dim, vis_dim // 16)),\n",
    "            (\"relu\", nn.ReLU(inplace=True)),\n",
    "            (\"linear2\", nn.Linear(vis_dim // 16, ctx_dim))\n",
    "        ])).to(device)\n",
    "\n",
    "        prompts = [prompt_prefix + \" \" + name + \".\" for name in self.classnames]\n",
    "        # tokenized = torch.cat([clip.tokenize(p) for p in prompts]).to(clip_model.token_embedding.weight.device)\n",
    "        tokenized = torch.cat([clip.tokenize(p) for p in prompts]).to(device)\n",
    "        with torch.no_grad():\n",
    "            embedding = clip_model.token_embedding(tokenized).to(self.dtype)\n",
    "\n",
    "        self.register_buffer(\"token_prefix\", embedding[:, :1, :]) #SOS\n",
    "        self.register_buffer(\"token_suffix\", embedding[:, 1+n_ctx:, :]) #CLS, EOS\n",
    "        self.tokenized_prompts = tokenized\n",
    "\n",
    "    def construct_prompts(self, ctx, prefix, suffix, label=None):\n",
    "        if label is not None:\n",
    "            prefix = prefix[label]\n",
    "            suffix = suffix[label]\n",
    "        return torch.cat([prefix, ctx, suffix], dim=1)\n",
    "\n",
    "    def forward(self, image_features):\n",
    "        B = image_features.shape[0]\n",
    "        ctx = self.ctx.to(self.dtype).unsqueeze(0)                # (1, n_ctx, dim)\n",
    "        bias = self.meta_net(image_features.float()).unsqueeze(1)  # (B, 1, dim)\n",
    "        ctx_shifted = ctx + bias                   # (B, n_ctx, dim)\n",
    "\n",
    "        prefix = self.token_prefix\n",
    "        suffix = self.token_suffix\n",
    "\n",
    "        prompts = []\n",
    "        for ctx_i in ctx_shifted:\n",
    "            ctx_exp = ctx_i.unsqueeze(0).expand(self.n_cls, -1, -1)       # (n_cls, n_ctx, dim)\n",
    "            pts = self.construct_prompts(ctx_exp, prefix, suffix)         # (n_cls, ?, dim)\n",
    "            prompts.append(pts)\n",
    "        return torch.stack(prompts)  # (B, n_cls, ?, dim)\n"
   ]
  },
  {
   "cell_type": "code",
   "execution_count": 17,
   "metadata": {
    "execution": {
     "iopub.execute_input": "2025-07-16T13:20:20.098205Z",
     "iopub.status.busy": "2025-07-16T13:20:20.097899Z",
     "iopub.status.idle": "2025-07-16T13:20:20.104884Z",
     "shell.execute_reply": "2025-07-16T13:20:20.104403Z",
     "shell.execute_reply.started": "2025-07-16T13:20:20.098187Z"
    },
    "id": "RCAoQDpgghM7"
   },
   "outputs": [],
   "source": [
    "class CoCoOp(nn.Module):\n",
    "    def __init__(self, class_ids, class_names, clip_model, n_ctx=4, ctx_init=None, device=\"cuda\"):\n",
    "        super().__init__()\n",
    "        self.device = device\n",
    "        self.prompt_learner = PromptLearner(class_ids, class_names, clip_model, n_ctx=n_ctx, ctx_init=ctx_init, device=device).to(device)\n",
    "        self.clip_image_encoder = clip_model.visual\n",
    "        self.clip_text_encoder = clip_model.encode_text\n",
    "        self.text_encoder = TextEncoder(clip_model).to(device)\n",
    "        self.tokenized_prompts = self.prompt_learner.tokenized_prompts\n",
    "        self.logit_scale = clip_model.logit_scale\n",
    "        self.dtype = clip_model.dtype\n",
    "        self.class_ids = class_ids\n",
    "\n",
    "        # Freeze everything except prompt learner\n",
    "        for name, param in self.named_parameters():\n",
    "            if \"prompt_learner\" not in name:\n",
    "                param.requires_grad_(False)\n",
    "\n",
    "        print(f\"Total parameters: {sum(p.numel() for p in self.parameters())}\")\n",
    "        print(f\"Trainable parameters: {sum(p.numel() for p in self.parameters() if p.requires_grad)}\")\n",
    "        print(f\"Trainable parameter percentage: {sum(p.numel() for p in self.parameters() if p.requires_grad) / sum(p.numel() for p in self.parameters()) * 100:.2f}%\")\n",
    "\n",
    "    # For compatibility with the original CLIP interface\n",
    "    def encode_text(self, text_inputs):\n",
    "        return self.clip_text_encoder(text_inputs)\n",
    "\n",
    "    # For compatibility with the original CLIP interface\n",
    "    def encode_image(self, image):\n",
    "        return self.clip_image_encoder(image.to(dtype=self.dtype))\n",
    "\n",
    "    def forward(self, images, labels=None):\n",
    "        images = images.to(self.device).to(self.dtype)\n",
    "        image_features = self.clip_image_encoder(images)\n",
    "        image_features = image_features / image_features.norm(dim=-1, keepdim=True)\n",
    "\n",
    "        prompts = self.prompt_learner(image_features)\n",
    "\n",
    "        logits = []\n",
    "        for p_i, i_f in zip(prompts, image_features):\n",
    "            text_features = self.text_encoder(p_i, self.tokenized_prompts)\n",
    "            text_features = text_features / text_features.norm(dim=-1, keepdim=True)\n",
    "            logit = self.logit_scale.exp() * i_f @ text_features.T\n",
    "            logits.append(logit)\n",
    "        logits = torch.stack(logits)\n",
    "\n",
    "        if self.training and labels is not None:\n",
    "            return F.cross_entropy(logits, labels)\n",
    "\n",
    "        return logits"
   ]
  },
  {
   "cell_type": "code",
   "execution_count": 18,
   "metadata": {
    "execution": {
     "iopub.execute_input": "2025-07-16T13:20:20.110193Z",
     "iopub.status.busy": "2025-07-16T13:20:20.109860Z",
     "iopub.status.idle": "2025-07-16T13:20:20.119905Z",
     "shell.execute_reply": "2025-07-16T13:20:20.119404Z",
     "shell.execute_reply.started": "2025-07-16T13:20:20.110175Z"
    },
    "id": "WrbeKo-9wJYJ"
   },
   "outputs": [],
   "source": [
    "def training_step(net, data_loader, optimizer, cost_function, device=\"cuda\", desc=\"Training\"):\n",
    "  samples = 0.0\n",
    "  cumulative_loss = 0.0\n",
    "  cumulative_accuracy = 0.0\n",
    "\n",
    "  net.train()\n",
    "\n",
    "  pbar = tqdm(data_loader, desc=desc, position=0, leave=True, total=len(data_loader))\n",
    "  for batch_idx, (inputs, targets) in enumerate(data_loader):\n",
    "    inputs = inputs.to(device)\n",
    "    targets = targets.to(device)\n",
    "\n",
    "    optimizer.zero_grad()\n",
    "    outputs = net(inputs)\n",
    "    loss = cost_function(outputs, targets)\n",
    "    loss.backward()\n",
    "    optimizer.step()\n",
    "\n",
    "    samples += inputs.shape[0]\n",
    "    cumulative_loss += loss.item()\n",
    "    _, predicted = outputs.max(dim=1)\n",
    "\n",
    "    cumulative_accuracy += (predicted == targets).sum().item()\n",
    "\n",
    "    pbar.set_postfix(train_loss=loss.item(), train_acc=cumulative_accuracy / samples * 100)\n",
    "    pbar.update(1)\n",
    "    torch.cuda.empty_cache()\n",
    "\n",
    "  return cumulative_loss / samples, cumulative_accuracy /samples * 100\n",
    "\n",
    "\n",
    "def test_step(net, data_loader, cost_function, device=\"cuda\", desc=\"Testing\", categories=None):\n",
    "  samples = 0.0\n",
    "  cumulative_loss = 0.0\n",
    "  cumulative_accuracy = 0.0\n",
    "\n",
    "  net.eval()\n",
    "\n",
    "  # If categories are provided, build mapping for contiguous labels\n",
    "  if categories is not None:\n",
    "    contig_cat2idx = {cat: idx for idx, cat in enumerate(categories)}\n",
    "\n",
    "  pbar = tqdm(data_loader, desc=desc, position=0, leave=True, total=len(data_loader))\n",
    "  with torch.no_grad():\n",
    "    for batch_idx, (inputs, targets) in enumerate(data_loader):\n",
    "      inputs = inputs.to(device)\n",
    "      targets = targets.to(device)\n",
    "\n",
    "      # Remap targets if categories are provided\n",
    "      if categories is not None:\n",
    "        targets = torch.Tensor([contig_cat2idx[t.item()] for t in targets]).long().to(device)\n",
    "\n",
    "      outputs = net(inputs)\n",
    "      loss = cost_function(outputs, targets)\n",
    "      samples += inputs.shape[0]\n",
    "      cumulative_loss += loss.item()\n",
    "      _, predicted = outputs.max(dim=1)\n",
    "\n",
    "      cumulative_accuracy += (predicted == targets).sum().item()\n",
    "\n",
    "      pbar.set_postfix(test_loss=loss.item(), test_acc=cumulative_accuracy / samples * 100)\n",
    "      pbar.update(1)\n",
    "\n",
    "  return cumulative_loss / samples, cumulative_accuracy / samples * 100\n",
    "\n",
    "\n",
    "# A function similar to the test step, but for the novel classes, using a fixed prompt instead of learned prompts\n",
    "def test_novel_step(net, data_loader, cost_function, device=\"cuda\", desc=\"Testing Novel Classes\", categories=None):\n",
    "  samples = 0.0\n",
    "  cumulative_loss = 0.0\n",
    "  cumulative_accuracy = 0.0\n",
    "\n",
    "  net.eval()\n",
    "\n",
    "  # If categories are provided, build mapping for contiguous labels\n",
    "  if categories is not None:\n",
    "    contig_cat2idx = {cat: idx for idx, cat in enumerate(categories)}\n",
    "\n",
    "  # Create a fixed prompt for each novel class\n",
    "  fixed_prompts = clip.tokenize(\n",
    "      [f\"a photo of a {CLASS_NAMES[c]}, a type of flower.\" for c in categories]\n",
    "  ).to(device)\n",
    "  text_features = net.encode_text(fixed_prompts)\n",
    "  text_features /= text_features.norm(dim=-1, keepdim=True)\n",
    "\n",
    "  pbar = tqdm(data_loader, desc=desc, position=0, leave=True, total=len(data_loader))\n",
    "  with torch.no_grad():\n",
    "    for batch_idx, (inputs, targets) in enumerate(data_loader):\n",
    "      inputs = inputs.to(device)\n",
    "      targets = targets.to(device)\n",
    "\n",
    "      # Remap targets if categories are provided\n",
    "      if categories is not None:\n",
    "        targets = torch.Tensor([contig_cat2idx[t.item()] for t in targets]).long().to(device)\n",
    "\n",
    "      image_features = net.encode_image(inputs)\n",
    "      image_features /= image_features.norm(dim=-1, keepdim=True)\n",
    "      logits = image_features @ text_features.T\n",
    "\n",
    "      loss = cost_function(logits, targets)\n",
    "      samples += inputs.shape[0]\n",
    "      cumulative_loss += loss.item()\n",
    "      _, predicted = logits.max(dim=1)\n",
    "\n",
    "      cumulative_accuracy += (predicted == targets).sum().item()\n",
    "\n",
    "      pbar.set_postfix(test_loss=loss.item(), test_acc=cumulative_accuracy / samples * 100)\n",
    "      pbar.update(1)\n",
    "\n",
    "  return cumulative_loss / samples, cumulative_accuracy / samples * 100"
   ]
  },
  {
   "cell_type": "code",
   "execution_count": 19,
   "metadata": {
    "execution": {
     "iopub.execute_input": "2025-07-16T13:20:20.120726Z",
     "iopub.status.busy": "2025-07-16T13:20:20.120478Z",
     "iopub.status.idle": "2025-07-16T13:20:20.125251Z",
     "shell.execute_reply": "2025-07-16T13:20:20.124755Z",
     "shell.execute_reply.started": "2025-07-16T13:20:20.120708Z"
    },
    "id": "HM-I2NzmwJXA"
   },
   "outputs": [],
   "source": [
    "def get_optimizer(model, lr, wd, momentum):\n",
    "  optimizer = torch.optim.SGD(\n",
    "      [{\"params\": model.parameters()}],\n",
    "      lr=lr,\n",
    "      momentum=momentum,\n",
    "      weight_decay=wd,\n",
    "      nesterov=True,\n",
    "  )\n",
    "  return optimizer\n",
    "\n",
    "def get_cost_function():\n",
    "  cost_function = torch.nn.CrossEntropyLoss()\n",
    "  return cost_function"
   ]
  },
  {
   "cell_type": "code",
   "execution_count": 20,
   "metadata": {
    "execution": {
     "iopub.execute_input": "2025-07-16T13:20:20.126057Z",
     "iopub.status.busy": "2025-07-16T13:20:20.125829Z",
     "iopub.status.idle": "2025-07-16T13:20:25.643958Z",
     "shell.execute_reply": "2025-07-16T13:20:25.643427Z",
     "shell.execute_reply.started": "2025-07-16T13:20:20.126031Z"
    }
   },
   "outputs": [
    {
     "data": {
      "text/html": [
       "\n",
       "      <iframe id=\"tensorboard-frame-1c80317fa3b1799d\" width=\"100%\" height=\"800\" frameborder=\"0\">\n",
       "      </iframe>\n",
       "      <script>\n",
       "        (function() {\n",
       "          const frame = document.getElementById(\"tensorboard-frame-1c80317fa3b1799d\");\n",
       "          const url = new URL(\"/\", window.location);\n",
       "          const port = 6006;\n",
       "          if (port) {\n",
       "            url.port = port;\n",
       "          }\n",
       "          frame.src = url;\n",
       "        })();\n",
       "      </script>\n",
       "    "
      ],
      "text/plain": [
       "<IPython.core.display.HTML object>"
      ]
     },
     "metadata": {},
     "output_type": "display_data"
    }
   ],
   "source": [
    "%load_ext tensorboard\n",
    "%tensorboard --logdir=runs"
   ]
  },
  {
   "cell_type": "code",
   "execution_count": 22,
   "metadata": {
    "colab": {
     "base_uri": "https://localhost:8080/",
     "height": 405
    },
    "execution": {
     "iopub.execute_input": "2025-07-16T13:48:09.768244Z",
     "iopub.status.busy": "2025-07-16T13:48:09.767914Z",
     "iopub.status.idle": "2025-07-16T14:10:21.697598Z",
     "shell.execute_reply": "2025-07-16T14:10:21.697048Z",
     "shell.execute_reply.started": "2025-07-16T13:48:09.768218Z"
    },
    "id": "9wF9GErBghM7",
    "outputId": "d360277b-c66d-4aa8-aa4c-28fbcffb89ed"
   },
   "outputs": [
    {
     "name": "stdout",
     "output_type": "stream",
     "text": [
      "Training on 51 classes\n",
      "Initial context: \"X X X X\"\n",
      "# of context tokens: 4\n",
      "Total parameters: 124359201\n",
      "Trainable parameters: 35360\n",
      "Trainable parameter percentage: 0.03%\n"
     ]
    },
    {
     "name": "stderr",
     "output_type": "stream",
     "text": [
      "Train Epoch 1/15: 100%|██████████| 510/510 [00:56<00:00,  9.04it/s, train_acc=69.2, train_loss=0.247]   \n",
      "Valid Epoch 1/15: 100%|██████████| 510/510 [00:18<00:00, 26.89it/s, test_acc=81.6, test_loss=0.566]   \n",
      "Train Epoch 2/15: 100%|██████████| 510/510 [00:56<00:00,  9.02it/s, train_acc=82, train_loss=0.698]     \n",
      "Valid Epoch 2/15: 100%|██████████| 510/510 [00:18<00:00, 26.86it/s, test_acc=84.3, test_loss=0.35]    \n",
      "Train Epoch 3/15: 100%|██████████| 510/510 [00:56<00:00,  9.01it/s, train_acc=88.4, train_loss=0.00199] \n",
      "Valid Epoch 3/15: 100%|██████████| 510/510 [00:19<00:00, 26.74it/s, test_acc=89.6, test_loss=0.161]   \n",
      "Train Epoch 4/15: 100%|██████████| 510/510 [00:56<00:00,  9.01it/s, train_acc=92.7, train_loss=0.278]   \n",
      "Valid Epoch 4/15: 100%|██████████| 510/510 [00:18<00:00, 26.87it/s, test_acc=90.2, test_loss=0.329]   \n",
      "Train Epoch 5/15: 100%|██████████| 510/510 [00:56<00:00,  9.01it/s, train_acc=92.2, train_loss=0.52]    \n",
      "Valid Epoch 5/15: 100%|██████████| 510/510 [00:19<00:00, 26.83it/s, test_acc=89.4, test_loss=0.0565]  \n",
      "Train Epoch 6/15: 100%|██████████| 510/510 [00:56<00:00,  9.03it/s, train_acc=92.7, train_loss=0.137]   \n",
      "Valid Epoch 6/15: 100%|██████████| 510/510 [00:18<00:00, 26.85it/s, test_acc=89.8, test_loss=0.0777]  \n",
      "Train Epoch 7/15: 100%|██████████| 510/510 [00:56<00:00,  9.02it/s, train_acc=95.5, train_loss=0.0626]  \n",
      "Valid Epoch 7/15: 100%|██████████| 510/510 [00:18<00:00, 26.88it/s, test_acc=89.8, test_loss=0.0352]  \n",
      "Train Epoch 8/15: 100%|██████████| 510/510 [00:56<00:00,  9.01it/s, train_acc=95.7, train_loss=0.00239] \n",
      "Valid Epoch 8/15: 100%|██████████| 510/510 [00:18<00:00, 26.85it/s, test_acc=91.2, test_loss=0.0448]  \n",
      "Train Epoch 9/15: 100%|██████████| 510/510 [00:56<00:00,  9.01it/s, train_acc=96.1, train_loss=0.256]   \n",
      "Valid Epoch 9/15: 100%|██████████| 510/510 [00:18<00:00, 26.86it/s, test_acc=92.5, test_loss=0.0269]  \n",
      "Train Epoch 10/15: 100%|██████████| 510/510 [00:56<00:00,  8.99it/s, train_acc=97.5, train_loss=0.468]   \n",
      "Valid Epoch 10/15: 100%|██████████| 510/510 [00:18<00:00, 26.93it/s, test_acc=91.2, test_loss=0.0181]  \n",
      "Train Epoch 11/15: 100%|██████████| 510/510 [00:56<00:00,  9.02it/s, train_acc=97.1, train_loss=0.1]     \n",
      "Valid Epoch 11/15: 100%|██████████| 510/510 [00:19<00:00, 26.82it/s, test_acc=94.5, test_loss=0.0158]  \n",
      "Train Epoch 12/15: 100%|██████████| 510/510 [00:56<00:00,  9.00it/s, train_acc=97.8, train_loss=7.14e-5] \n",
      "Valid Epoch 12/15: 100%|██████████| 510/510 [00:18<00:00, 26.89it/s, test_acc=93.7, test_loss=0.0116]  \n",
      "Train Epoch 13/15: 100%|██████████| 510/510 [00:56<00:00,  9.02it/s, train_acc=98.6, train_loss=0.0538]  \n",
      "Valid Epoch 13/15: 100%|██████████| 510/510 [00:18<00:00, 26.89it/s, test_acc=93.7, test_loss=0.00978] \n",
      "Train Epoch 14/15: 100%|██████████| 510/510 [00:56<00:00,  9.00it/s, train_acc=99, train_loss=0.0323]    \n",
      "Valid Epoch 14/15: 100%|██████████| 510/510 [00:19<00:00, 26.75it/s, test_acc=92.9, test_loss=0.0113]  \n",
      "Train Epoch 15/15: 100%|██████████| 510/510 [00:56<00:00,  9.02it/s, train_acc=98.8, train_loss=0.00411] \n",
      "Valid Epoch 15/15: 100%|██████████| 510/510 [00:19<00:00, 26.79it/s, test_acc=92.9, test_loss=0.0099]  \n"
     ]
    },
    {
     "name": "stdout",
     "output_type": "stream",
     "text": [
      "Best Val Accuracy: 94.51% at epoch 11\n"
     ]
    },
    {
     "name": "stderr",
     "output_type": "stream",
     "text": [
      "Final Train Evaluation: 100%|██████████| 510/510 [00:18<00:00, 26.88it/s, test_acc=99.8, test_loss=0.0608]  \n",
      "Final Valid Evaluation: 100%|██████████| 510/510 [00:18<00:00, 26.85it/s, test_acc=92.9, test_loss=0.0099]  \n",
      "Final Base Evaluation: 100%|██████████| 2473/2473 [01:31<00:00, 26.93it/s, test_acc=93.6, test_loss=0.375]   \n",
      "Final Novel Evaluation: 100%|██████████| 3676/3676 [00:35<00:00, 104.89it/s, test_acc=78.3, test_loss=3.83]\n"
     ]
    },
    {
     "name": "stdout",
     "output_type": "stream",
     "text": [
      "After Training:\n",
      "Train Loss: 0.08850\t\tTrain Accuracy: 99.80392\n",
      "Valid Loss: 0.24666\t\tValid Accuracy: 92.94118\n",
      "Base Loss: 0.24282\t\tBase Accuracy: 93.57056\n",
      "Novel Loss: 3.83736\t\tNovel Accuracy: 78.26442\n",
      "\n",
      "Results:\n",
      "🔍 Base classes accuracy: 93.57%\n",
      "🔍 Novel classes accuracy: 78.26%\n",
      "🔍 Harmonic Mean: 85.24%\n"
     ]
    },
    {
     "data": {
      "image/png": "[encoded data removed]",
      "text/plain": [
       "<Figure size 1000x400 with 2 Axes>"
      ]
     },
     "metadata": {},
     "output_type": "display_data"
    }
   ],
   "source": [
    "def main_cocoop(\n",
    "    batch_size=1,\n",
    "    device=\"cuda:0\",\n",
    "    learning_rate=0.002,\n",
    "    weight_decay=0.0005,\n",
    "    momentum=0.9,\n",
    "    epochs=15,\n",
    "    run_name=\"CoCoOp_2\",\n",
    "    n_ctx=4,\n",
    "    ctx_init=None,\n",
    "):\n",
    "    writer = SummaryWriter(f\"runs/{run_name}\")\n",
    "\n",
    "    clip_model, preprocess = clip.load(\"ViT-B/16\", device=device)\n",
    "    train_set, val_set, test_set = get_data(transform=preprocess)\n",
    "    base_classes, novel_classes = base_novel_categories(train_set)\n",
    "    train_base, _ = split_data(train_set, base_classes)\n",
    "    val_base, _ = split_data(val_set, base_classes)\n",
    "    test_base, test_novel = split_data(test_set, base_classes)\n",
    "\n",
    "    print(f\"Training on {len(base_classes)} classes\")\n",
    "\n",
    "    train_loader = DataLoader(train_base, batch_size=batch_size, shuffle=True, num_workers=2)\n",
    "    val_loader = DataLoader(val_base, batch_size=batch_size, shuffle=False, num_workers=2)\n",
    "    test_loader_base = DataLoader(test_base, batch_size=batch_size, shuffle=False, num_workers=2)\n",
    "    test_loader_novel = DataLoader(test_novel, batch_size=batch_size, shuffle=False, num_workers=2)\n",
    "\n",
    "    model = CoCoOp(base_classes, CLASS_NAMES, clip_model, n_ctx=n_ctx, ctx_init=ctx_init, device=device)\n",
    "    optimizer = get_optimizer(model, learning_rate, weight_decay, momentum)\n",
    "    cost_function = get_cost_function()\n",
    "\n",
    "    train_losses, val_losses = [], []\n",
    "    train_accs, val_accs = [], []\n",
    "\n",
    "    # Log hyperparameters\n",
    "    writer.add_hparams(\n",
    "        {\n",
    "            \"batch_size\": batch_size,\n",
    "            \"learning_rate\": learning_rate,\n",
    "            \"weight_decay\": weight_decay,\n",
    "            \"momentum\": momentum,\n",
    "            \"epochs\": epochs,\n",
    "            \"n_ctx\": n_ctx,\n",
    "        }, {}\n",
    "    )\n",
    "\n",
    "    best_val_acc = 0.0\n",
    "    best_epoch = -1\n",
    "    checkpoint_path = f\"checkpoints/{run_name}_best.pt\"\n",
    "    last_checkpoint_path = f\"checkpoints/{run_name}_last.pt\"\n",
    "    early_stop_patience = 5\n",
    "    patience_counter = 0\n",
    "\n",
    "    try:\n",
    "        for e in range(epochs):\n",
    "            train_loss, train_acc = training_step(model, train_loader, optimizer, cost_function, device=device, desc=f\"Train Epoch {e+1}/{epochs}\")\n",
    "            val_loss, val_acc = test_step(model, val_loader, cost_function, device=device, desc=f\"Valid Epoch {e+1}/{epochs}\")\n",
    "\n",
    "            train_losses.append(train_loss)\n",
    "            val_losses.append(val_loss)\n",
    "            train_accs.append(train_acc)\n",
    "            val_accs.append(val_acc)\n",
    "\n",
    "            writer.add_scalars(\"Loss\", {\"Train\": train_loss, \"Val\": val_loss}, e)\n",
    "            writer.add_scalars(\"Accuracy\", {\"Train\": train_acc, \"Val\": val_acc}, e)\n",
    "            writer.flush()\n",
    "\n",
    "            # Checkpoint: Save best model\n",
    "            if val_acc > best_val_acc:\n",
    "                best_val_acc = val_acc\n",
    "                best_epoch = e\n",
    "                patience_counter = 0\n",
    "                torch.save({\n",
    "                    'epoch': e,\n",
    "                    'model_state_dict': model.state_dict(),\n",
    "                    'optimizer_state_dict': optimizer.state_dict(),\n",
    "                    'val_acc': val_acc,\n",
    "                    'train_acc': train_acc,\n",
    "                    'train_loss': train_loss,\n",
    "                    'val_loss': val_loss,\n",
    "                }, checkpoint_path)\n",
    "            else:\n",
    "                patience_counter += 1\n",
    "\n",
    "            # Save last checkpoint every epoch\n",
    "            torch.save({\n",
    "                'epoch': e,\n",
    "                'model_state_dict': model.state_dict(),\n",
    "                'optimizer_state_dict': optimizer.state_dict(),\n",
    "                'val_acc': val_acc,\n",
    "                'train_acc': train_acc,\n",
    "                'train_loss': train_loss,\n",
    "                'val_loss': val_loss,\n",
    "            }, last_checkpoint_path)\n",
    "\n",
    "            # Early stopping\n",
    "            if patience_counter >= early_stop_patience:\n",
    "                print(f\"Early stopping at epoch {e+1} (no improvement for {early_stop_patience} epochs)\")\n",
    "                break\n",
    "\n",
    "    except KeyboardInterrupt:\n",
    "        print(\"Training interrupted. Saving last checkpoint...\")\n",
    "        torch.save({\n",
    "            'epoch': e,\n",
    "            'model_state_dict': model.state_dict(),\n",
    "            'optimizer_state_dict': optimizer.state_dict(),\n",
    "            'val_acc': val_acc,\n",
    "            'train_acc': train_acc,\n",
    "            'train_loss': train_loss,\n",
    "            'val_loss': val_loss,\n",
    "        }, last_checkpoint_path)\n",
    "\n",
    "    print(f\"Best Val Accuracy: {best_val_acc:.2f}% at epoch {best_epoch+1}\")\n",
    "    # prof_eval_base_acc = eval(model, test_base, base_classes, 128, device, label=\"Test Zero Shot on Base\")\n",
    "    # prof_eval_novel_acc = eval(model, test_novel, novel_classes, 128, device, label=\"Test Zero Shot on Novel\")\n",
    "\n",
    "    train_loss, train_acc = test_step(model, train_loader, cost_function, device=device, desc=\"Final Train Evaluation\")\n",
    "    val_loss, val_acc = test_step(model, val_loader, cost_function, device=device, desc=\"Final Valid Evaluation\")\n",
    "    eval_base_loss, eval_base_acc = test_step(model, test_loader_base, cost_function, device=device, desc=\"Final Base Evaluation\", categories=base_classes)\n",
    "    eval_novel_loss, eval_novel_acc = test_novel_step(model, test_loader_novel, cost_function, device=device, desc=\"Final Novel Evaluation\", categories=novel_classes)\n",
    "    hm = harmonic_mean(eval_base_acc, eval_novel_acc)\n",
    "\n",
    "    # Log final metrics\n",
    "    writer.add_scalar(\"Test/Base Accuracy\", eval_base_acc)\n",
    "    writer.add_scalar(\"Test/Novel Accuracy\", eval_novel_acc)\n",
    "    writer.add_scalar(\"Test/Harmonic Mean\", hm)\n",
    "    writer.flush()\n",
    "\n",
    "    print(\"After Training:\")\n",
    "    print(f\"Train Loss: {train_loss:.5f}\\t\\tTrain Accuracy: {train_acc:.5f}\")\n",
    "    print(f\"Valid Loss: {val_loss:.5f}\\t\\tValid Accuracy: {val_acc:.5f}\")\n",
    "    print(f\"Base Loss: {eval_base_loss:.5f}\\t\\tBase Accuracy: {eval_base_acc:.5f}\")\n",
    "    print(f\"Novel Loss: {eval_novel_loss:.5f}\\t\\tNovel Accuracy: {eval_novel_acc:.5f}\")\n",
    "\n",
    "    print(\"\\nResults:\")\n",
    "    print(f\"🔍 Base classes accuracy: {eval_base_acc:.2f}%\")\n",
    "    print(f\"🔍 Novel classes accuracy: {eval_novel_acc:.2f}%\")\n",
    "    print(f\"🔍 Harmonic Mean: {hm:.2f}%\")\n",
    "\n",
    "    # Plot accuracy and loss curves\n",
    "    plt.figure(figsize=(10,4))\n",
    "    plt.subplot(1,2,1)\n",
    "    plt.plot(range(epochs), train_losses, label=\"Train Loss\")\n",
    "    plt.plot(range(epochs), val_losses, label=\"Val Loss\")\n",
    "    plt.xlabel(\"Epoch\")\n",
    "    plt.ylabel(\"Loss\")\n",
    "    plt.title(\"Loss Curve\")\n",
    "    plt.legend()\n",
    "    plt.grid(True)\n",
    "\n",
    "    plt.subplot(1,2,2)\n",
    "    plt.plot(range(epochs), train_accs, label=\"Train Acc\")\n",
    "    plt.plot(range(epochs), val_accs, label=\"Val Acc\")\n",
    "    plt.xlabel(\"Epoch\")\n",
    "    plt.ylabel(\"Accuracy (%)\")\n",
    "    plt.title(\"Accuracy Curve\")\n",
    "    plt.legend()\n",
    "    plt.grid(True)\n",
    "\n",
    "    plt.tight_layout()\n",
    "    plt.savefig(f\"outputs/{run_name}_curves.png\")\n",
    "    plt.show()\n",
    "\n",
    "    # Log charts to TensorBoard\n",
    "    writer.add_figure(\"Curves\", plt.gcf())\n",
    "    writer.close()\n",
    "\n",
    "main_cocoop()"
   ]
  },
  {
   "cell_type": "markdown",
   "metadata": {
    "id": "u5HXX1FKghM8"
   },
   "source": [
    "## Evaluation: CoCoOp Baseline\n",
    "##### TODO\n",
    "- Evaluate CoCoOp on:\n",
    "    - Base test set (base classes)\n",
    "    - Novel test set (novel classes) — zero-shot generalization\n",
    "- Compute Harmonic Mean\n",
    "- Compare with baseline CLIP (from Section 2)\n",
    "- Show:\n",
    "    - Table with Base, Novel, HM for both CLIP and CoCoOp\n",
    "    - Confusion matrices\n",
    "    - Accuracy per class (bar plots)\n",
    "    - Line plot of train/val curves\n",
    "- Discuss: Where does CoCoOp help most? Are any flowers still confused?"
   ]
  },
  {
   "cell_type": "markdown",
   "metadata": {
    "id": "fJ_zpWRkghM8"
   },
   "source": [
    "## Extensions"
   ]
  },
  {
   "cell_type": "markdown",
   "metadata": {
    "id": "jJP0e3fwghM8"
   },
   "source": [
    "## Conclusion & Takeaways\n",
    "##### TODO\n",
    "- Summarize performance gains vs. zero-shot\n",
    "- Highlight where CoCoOp shines and its limitations\n",
    "- Discuss extensibility and future work\n",
    "- Reflect on challenges in fine-grained adaptation"
   ]
  },
  {
   "cell_type": "markdown",
   "metadata": {
    "id": "sHvnymPyghM8"
   },
   "source": [
    "## References\n",
    "##### TODO\n",
    "- Radford et al., 2021 (CLIP)\n",
    "- Zhou et al., 2022 (CoOp/CoCoOp)\n",
    "- Additional relevant few-shot learning work (e.g., Tip-Adapter, VPT, etc.)"
   ]
  },
  {
   "cell_type": "markdown",
   "metadata": {
    "id": "J3cLVIqMghM8"
   },
   "source": [
    "## Appendix"
   ]
  }
 ],
 "metadata": {
  "accelerator": "GPU",
  "colab": {
   "gpuType": "T4",
   "provenance": []
  },
  "kernelspec": {
   "display_name": "Python 3 (ipykernel)",
   "language": "python",
   "name": "python3"
  },
  "language_info": {
   "codemirror_mode": {
    "name": "ipython",
    "version": 3
   },
   "file_extension": ".py",
   "mimetype": "text/x-python",
   "name": "python",
   "nbconvert_exporter": "python",
   "pygments_lexer": "ipython3",
   "version": "3.12.9"
  }
 },
 "nbformat": 4,
 "nbformat_minor": 4
}
